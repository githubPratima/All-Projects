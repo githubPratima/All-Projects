{
 "cells": [
  {
   "cell_type": "markdown",
   "id": "ebc0872d",
   "metadata": {},
   "source": [
    "Name:Pratima Paudel\n",
    "\n",
    "**Got accuracy= 99 Percent"
   ]
  },
  {
   "cell_type": "markdown",
   "id": "b57bd373",
   "metadata": {},
   "source": [
    "# Introduction:Digit_Recognizer\n",
    "\n",
    "This is a model that uses five sequential convolutional layers to recognize digits in the MNIST dataset. It is created using the Keras API with the TensorFlow backend.The first step will be to prepare the handwritten digit images, and then the focus will be on building and evaluating the CNN model.\n",
    "* ** SOME OF THE STEPS ARE**:\n",
    "\n",
    "* **Data preparation**:Import all the libraries and Load data,Normalization,Split training and valdiation set\n",
    "\n",
    "* **CNN**:Define the model,Set the optimizer,Data augmentation\n",
    "\n",
    "* **Evaluate the model**:Training and validation curves,Confusion matrix\n",
    "\n",
    "* **Prediction and submition**"
   ]
  },
  {
   "cell_type": "markdown",
   "id": "cf2220cf",
   "metadata": {},
   "source": [
    "# loading all the libraries"
   ]
  },
  {
   "cell_type": "code",
   "execution_count": 1,
   "id": "68d01863",
   "metadata": {},
   "outputs": [],
   "source": [
    "import pandas as pd\n",
    "import numpy as np\n",
    "import matplotlib.pyplot as plt\n",
    "import matplotlib.image as mpimg\n",
    "import seaborn as sns\n",
    "%matplotlib inline\n",
    "np.random.seed(2)\n",
    "import sklearn\n",
    "assert sklearn.__version__ >= \"0.20\"\n",
    "try:\n",
    "    %tensorflow_version 2.x\n",
    "except Exception:\n",
    "    pass\n",
    "from sklearn.model_selection import train_test_split\n",
    "from sklearn.metrics import confusion_matrix\n",
    "import itertools\n",
    "import tensorflow as tf\n",
    "assert tf.__version__ >= \"2.0\"\n",
    "from tensorflow import keras\n",
    "from keras.utils.np_utils import to_categorical\n",
    "from keras.models import Sequential\n",
    "from keras.layers import Dense, Dropout, Flatten, Conv2D, MaxPool2D\n",
    "from tensorflow.keras.optimizers import RMSprop\n",
    "from keras.preprocessing.image import ImageDataGenerator\n",
    "from keras.callbacks import ReduceLROnPlateau\n",
    "\n",
    "sns.set(style='white', context='notebook', palette='deep')\n"
   ]
  },
  {
   "cell_type": "markdown",
   "id": "7227eb9e",
   "metadata": {},
   "source": [
    "#  Load data"
   ]
  },
  {
   "cell_type": "code",
   "execution_count": 2,
   "id": "801f79f6",
   "metadata": {},
   "outputs": [],
   "source": [
    "train = pd.read_csv(\"C:/Users/pdlpr/Dropbox/Pratima/spring 2023/test.csv\")\n",
    "test = pd.read_csv(\"C:/Users/pdlpr/Dropbox/Pratima/spring 2023/test.csv\")"
   ]
  },
  {
   "cell_type": "code",
   "execution_count": 3,
   "id": "06b57886",
   "metadata": {},
   "outputs": [
    {
     "name": "stderr",
     "output_type": "stream",
     "text": [
      "C:\\ProgramData\\Anaconda3\\lib\\site-packages\\seaborn\\_decorators.py:36: FutureWarning: Pass the following variable as a keyword arg: x. From version 0.12, the only valid positional argument will be `data`, and passing other arguments without an explicit keyword will result in an error or misinterpretation.\n",
      "  warnings.warn(\n"
     ]
    },
    {
     "name": "stdout",
     "output_type": "stream",
     "text": [
      "1    4684\n",
      "7    4401\n",
      "3    4351\n",
      "9    4188\n",
      "2    4177\n",
      "6    4137\n",
      "0    4132\n",
      "4    4072\n",
      "8    4063\n",
      "5    3795\n",
      "Name: label, dtype: int64\n"
     ]
    },
    {
     "data": {
      "image/png": "[encoded data removed]",
      "text/plain": [
       "<Figure size 640x480 with 1 Axes>"
      ]
     },
     "metadata": {},
     "output_type": "display_data"
    }
   ],
   "source": [
    "import seaborn as sns\n",
    "import pandas as pd\n",
    "\n",
    "train = pd.read_csv(\"C:/Users/pdlpr/Dropbox/Pratima/spring 2023/train.csv\")\n",
    "Y_train = train['label']\n",
    "X_train = train.drop(labels=['label'], axis=1)\n",
    "del train\n",
    "\n",
    "g = sns.countplot(Y_train)\n",
    "print(Y_train.value_counts())"
   ]
  },
  {
   "cell_type": "markdown",
   "id": "39d9fef6",
   "metadata": {},
   "source": [
    "# Check the missing values"
   ]
  },
  {
   "cell_type": "code",
   "execution_count": 4,
   "id": "b4e5659f",
   "metadata": {},
   "outputs": [
    {
     "name": "stdout",
     "output_type": "stream",
     "text": [
      "count       784\n",
      "unique        1\n",
      "top       False\n",
      "freq        784\n",
      "dtype: object\n"
     ]
    }
   ],
   "source": [
    "print(X_train.isnull().any().describe())"
   ]
  },
  {
   "cell_type": "code",
   "execution_count": 5,
   "id": "d9472264",
   "metadata": {},
   "outputs": [
    {
     "name": "stdout",
     "output_type": "stream",
     "text": [
      "count       784\n",
      "unique        1\n",
      "top       False\n",
      "freq        784\n",
      "dtype: object\n"
     ]
    }
   ],
   "source": [
    "print(test.isnull().any().describe())"
   ]
  },
  {
   "cell_type": "markdown",
   "id": "fabf752f",
   "metadata": {},
   "source": [
    "Missing vlaues in our data could cause trouble in our model so we need to remove it. From above result we knew that there is no missing values and its safe to go furthermore"
   ]
  },
  {
   "cell_type": "markdown",
   "id": "199cceef",
   "metadata": {},
   "source": [
    "#  Normalization"
   ]
  },
  {
   "cell_type": "markdown",
   "id": "e38baf1c",
   "metadata": {},
   "source": [
    "Grayscale normalization is the process of transforming pixel values of grayscale images so that they fall within a standardized range. So We perform a grayscale normalization to reduce the effect of illumination's differences. \n",
    "Moreover the CNN converg faster on [0..1] data than on [0..255]."
   ]
  },
  {
   "cell_type": "code",
   "execution_count": 6,
   "id": "368b3774",
   "metadata": {},
   "outputs": [],
   "source": [
    "#normalizing the data\n",
    "X_train = X_train / 255.0\n",
    "test = test / 255.0"
   ]
  },
  {
   "cell_type": "markdown",
   "id": "cd1e35ce",
   "metadata": {},
   "source": [
    "# Reshape"
   ]
  },
  {
   "cell_type": "code",
   "execution_count": 7,
   "id": "335e829c",
   "metadata": {},
   "outputs": [],
   "source": [
    "# Reshape image in 3 dimensions (height = 28px, width = 28px , canal = 1)\n",
    "X_train = X_train.values.reshape(-1,28,28,1)\n",
    "test = test.values.reshape(-1,28,28,1)"
   ]
  },
  {
   "cell_type": "markdown",
   "id": "b5a74686",
   "metadata": {},
   "source": [
    "The images used for training and testing were initially stored as 1D vectors of 784 values in pandas.DataFrame. To fit the images into Keras, we needed to reshape them into 28x28x1 3D matrices as Keras requires an additional channel dimension at the end. Since MNIST images are grayscale, only one channel was used. If RGB images were used, three channels would have been needed, resulting in reshaping the 784px vectors to 28x28x3 3D matrices."
   ]
  },
  {
   "cell_type": "markdown",
   "id": "2b819d1a",
   "metadata": {},
   "source": [
    "# Encoding"
   ]
  },
  {
   "cell_type": "code",
   "execution_count": 8,
   "id": "e9a96b97",
   "metadata": {},
   "outputs": [],
   "source": [
    "# Encode labels to one hot vectors (ex : 2 -> [0,0,1,0,0,0,0,0,0,0])\n",
    "Y_train = to_categorical(Y_train, num_classes = 10)"
   ]
  },
  {
   "cell_type": "markdown",
   "id": "79723a2a",
   "metadata": {},
   "source": [
    "# Split training and validation set "
   ]
  },
  {
   "cell_type": "code",
   "execution_count": 9,
   "id": "c4a82a8d",
   "metadata": {},
   "outputs": [],
   "source": [
    "random_seed = 2\n",
    "X_train, X_val, Y_train, Y_val = train_test_split(X_train, Y_train, test_size = 0.1, random_state=random_seed)"
   ]
  },
  {
   "cell_type": "markdown",
   "id": "2099732a",
   "metadata": {},
   "source": [
    "To ensure accurate evaluation during validation, I split the training set into two parts: a small fraction (10%) was reserved for the validation set where the model would be evaluated, and the remaining majority (90%) was used to train the model. \n",
    "Since the dataset had a balance of labels among its 42,000 training images, there was no risk of any labels being over-represented in the validation set. However, for unbalanced datasets, a random split could lead to inaccurate evaluation during validation."
   ]
  },
  {
   "cell_type": "markdown",
   "id": "3160d2a0",
   "metadata": {},
   "source": [
    "# visualising the image\n",
    "We can get a better sense for one of these examples by visualising the image and looking at the label."
   ]
  },
  {
   "cell_type": "code",
   "execution_count": 10,
   "id": "65842a92",
   "metadata": {},
   "outputs": [
    {
     "data": {
      "image/png": "[encoded data removed]",
      "text/plain": [
       "<Figure size 640x480 with 1 Axes>"
      ]
     },
     "metadata": {},
     "output_type": "display_data"
    }
   ],
   "source": [
    "g = plt.imshow(X_train[0][:,:,0])"
   ]
  },
  {
   "cell_type": "markdown",
   "id": "c8337f59",
   "metadata": {},
   "source": [
    "# Defining  the model by CNN"
   ]
  },
  {
   "cell_type": "markdown",
   "id": "515d32b1",
   "metadata": {},
   "source": [
    "I have used the Keras Sequential API, which allows for adding one layer at a time, starting from the input.\n",
    "\n",
    "The model has filters that transform parts of the image. There are 32 filters in the first two Conv2D layers and 64 filters in the last two. MaxPool2D is another important layer that reduces computational load and overfitting by downsampling and selecting the highest pixel value. Careful selection of pooling size is important. CNN combines local and global image features through convolutional and pooling layers.\n",
    "Combining convolutional and pooling layers, CNN are able to combine local features and learn more global features of the image.\n",
    "The activation function 'relu' adds non-linearity to the network. The Flatten layer converts the final feature maps into a single 1D vector to use in fully connected layers. \n",
    "finally,I used two fully connected Dense layers as a classifier, with the last layer's activation function being 'softmax' to output the probability distribution of each class."
   ]
  },
  {
   "cell_type": "code",
   "execution_count": 11,
   "id": "79f2f9ba",
   "metadata": {},
   "outputs": [],
   "source": [
    "from tensorflow.keras.models import Sequential\n",
    "from tensorflow.keras.layers import Conv2D, MaxPooling2D, Dropout, Flatten, Dense\n",
    "\n",
    "model = Sequential()\n",
    "\n",
    "model.add(Conv2D(32, (5,5), padding='same', activation='relu', input_shape=(28,28,1)))\n",
    "model.add(Conv2D(32, (5,5), padding='same', activation='relu'))\n",
    "model.add(MaxPool2D(pool_size=(2,2)))\n",
    "model.add(Dropout(0.25))\n",
    "\n",
    "model.add(Conv2D(64, (3,3), padding='same', activation='relu'))\n",
    "model.add(Conv2D(64, (3,3), padding='same', activation='relu'))\n",
    "model.add(MaxPool2D(pool_size=(2,2), strides=(2,2)))\n",
    "model.add(Dropout(0.25))\n",
    "\n",
    "model.add(Conv2D(128, (3,3), padding='same', activation='relu'))\n",
    "model.add(Conv2D(128, (3,3), padding='same', activation='relu'))\n",
    "model.add(MaxPool2D(pool_size=(2,2), strides=(2,2)))\n",
    "model.add(Dropout(0.25))\n",
    "\n",
    "model.add(Flatten())\n",
    "model.add(Dense(256, activation='relu'))\n",
    "model.add(Dropout(0.5))\n",
    "model.add(Dense(10, activation='softmax'))"
   ]
  },
  {
   "cell_type": "markdown",
   "id": "e26254ca",
   "metadata": {},
   "source": [
    "# Set the optimizer"
   ]
  },
  {
   "cell_type": "markdown",
   "id": "733019db",
   "metadata": {},
   "source": [
    "Once our layers are added to the model, we need to set up a score function, a loss function and an optimization algorithm.\n",
    "\n",
    "After adding layers to our model, we need to set up a way to evaluate its performance. This includes a loss function, which measures the error rate between predicted and observed labels, and an optimizer function, which improves the model by adjusting its parameters to minimize the loss. For our categorical classification, we use the \"categorical_crossentropy\" loss function and the RMSprop optimizer, which is very effective. We also use the \"accuracy\" metric function to evaluate our model's performance."
   ]
  },
  {
   "cell_type": "code",
   "execution_count": 12,
   "id": "6582026a",
   "metadata": {},
   "outputs": [],
   "source": [
    "import seaborn as sns\n",
    "from tensorflow.keras.optimizers.legacy import RMSprop\n",
    "optimizer = RMSprop(learning_rate=0.001, rho=0.9, epsilon=1e-08, decay=0.0)\n",
    "optimizer = RMSprop(learning_rate=0.001, rho=0.9, epsilon=1e-08, decay=0.0)"
   ]
  },
  {
   "cell_type": "code",
   "execution_count": 13,
   "id": "a70c2412",
   "metadata": {},
   "outputs": [],
   "source": [
    "# or from tensorflow.keras.optimizers.legacy import RMSprop\n",
    "from tensorflow.keras.optimizers import RMSprop\n",
    "optimizer = RMSprop(learning_rate=0.001, rho=0.9, epsilon=1e-08)"
   ]
  },
  {
   "cell_type": "code",
   "execution_count": 15,
   "id": "e2eb39a4",
   "metadata": {},
   "outputs": [],
   "source": [
    "#compile the model\n",
    "model.compile(optimizer = optimizer , loss = \"categorical_crossentropy\", metrics=[\"accuracy\"])"
   ]
  },
  {
   "cell_type": "markdown",
   "id": "1ec80054",
   "metadata": {},
   "source": [
    "To make the optimizer work better and get closer to the best possible results, I used a method to adjust the rate at which it learns. This rate determines how big of a step the optimizer takes towards finding the best results. If the rate is too high, the optimizer may take large steps but could end up missing the best results. To fix this, I decreased the learning rate as the optimizer progressed, making sure to still take big steps when needed. I used a function called ReduceLROnPlateau to decrease the learning rate by half if the optimizer was not making progress after 3 attempts."
   ]
  },
  {
   "cell_type": "markdown",
   "id": "6b885746",
   "metadata": {},
   "source": [
    "# Set a learning rate annealer"
   ]
  },
  {
   "cell_type": "code",
   "execution_count": 16,
   "id": "6cafc6a4",
   "metadata": {},
   "outputs": [],
   "source": [
    "learning_rate_reduction = ReduceLROnPlateau(monitor='val_accuracy', patience=3, verbose=1, factor=0.5, min_lr=0.00001)"
   ]
  },
  {
   "cell_type": "code",
   "execution_count": 17,
   "id": "4ea03824",
   "metadata": {},
   "outputs": [],
   "source": [
    "epochs = 30 # set epochs to 30 to get high accuracy\n",
    "batch_size = 86"
   ]
  },
  {
   "cell_type": "markdown",
   "id": "8feb9261",
   "metadata": {},
   "source": [
    "# Data augmentation"
   ]
  },
  {
   "cell_type": "markdown",
   "id": "e3f9a6af",
   "metadata": {},
   "source": [
    "To avoid overfitting, we can make our handwritten digit dataset larger by artificially expanding it. This means making small changes to the training data to replicate the variations that occur when people write digits, such as off-center writing, different scales, and rotation.\n",
    "\n",
    "This technique is known as data augmentation, where we modify the training data in ways that don't change the label. There are many ways to augment data, including grayscales, flips, crops, color changes, translations, and rotations. By using a few of these methods on our training data, we can create a more diverse set of examples and build a stronger model.\n",
    "The improvement : \n",
    "   With data augmentation I achieved 99.67% of accuracy"
   ]
  },
  {
   "cell_type": "code",
   "execution_count": 18,
   "id": "c1eec2c0",
   "metadata": {},
   "outputs": [],
   "source": [
    "# With data augmentation to prevent overfitting\n",
    "datagen = ImageDataGenerator(\n",
    "    rotation_range=10,\n",
    "    zoom_range=0.1,\n",
    "    width_shift_range=0.1,\n",
    "    height_shift_range=0.1,\n",
    "    horizontal_flip=False,\n",
    "    vertical_flip=False\n",
    ")\n",
    "\n",
    "datagen.fit(X_train)"
   ]
  },
  {
   "cell_type": "markdown",
   "id": "ce234bb7",
   "metadata": {},
   "source": [
    "# Once our model is ready, we fit the training dataset."
   ]
  },
  {
   "cell_type": "code",
   "execution_count": 19,
   "id": "26dd377b",
   "metadata": {},
   "outputs": [
    {
     "name": "stderr",
     "output_type": "stream",
     "text": [
      "C:\\Users\\pdlpr\\AppData\\Local\\Temp\\ipykernel_6608\\237449075.py:1: UserWarning: `Model.fit_generator` is deprecated and will be removed in a future version. Please use `Model.fit`, which supports generators.\n",
      "  history = model.fit_generator(datagen.flow(X_train,Y_train, batch_size=batch_size),\n"
     ]
    },
    {
     "name": "stdout",
     "output_type": "stream",
     "text": [
      "Epoch 1/30\n",
      "439/439 - 239s - loss: 0.5697 - accuracy: 0.8135 - val_loss: 0.0775 - val_accuracy: 0.9786 - lr: 0.0010 - 239s/epoch - 545ms/step\n",
      "Epoch 2/30\n",
      "439/439 - 235s - loss: 0.1285 - accuracy: 0.9628 - val_loss: 0.0545 - val_accuracy: 0.9848 - lr: 0.0010 - 235s/epoch - 534ms/step\n",
      "Epoch 3/30\n",
      "439/439 - 219s - loss: 0.0898 - accuracy: 0.9744 - val_loss: 0.0372 - val_accuracy: 0.9883 - lr: 0.0010 - 219s/epoch - 499ms/step\n",
      "Epoch 4/30\n",
      "439/439 - 216s - loss: 0.0745 - accuracy: 0.9783 - val_loss: 0.0390 - val_accuracy: 0.9883 - lr: 0.0010 - 216s/epoch - 493ms/step\n",
      "Epoch 5/30\n",
      "439/439 - 220s - loss: 0.0650 - accuracy: 0.9815 - val_loss: 0.0290 - val_accuracy: 0.9902 - lr: 0.0010 - 220s/epoch - 501ms/step\n",
      "Epoch 6/30\n",
      "439/439 - 224s - loss: 0.0605 - accuracy: 0.9832 - val_loss: 0.0423 - val_accuracy: 0.9883 - lr: 0.0010 - 224s/epoch - 510ms/step\n",
      "Epoch 7/30\n",
      "439/439 - 752s - loss: 0.0570 - accuracy: 0.9835 - val_loss: 0.0302 - val_accuracy: 0.9914 - lr: 0.0010 - 752s/epoch - 2s/step\n",
      "Epoch 8/30\n",
      "439/439 - 199s - loss: 0.0528 - accuracy: 0.9850 - val_loss: 0.0332 - val_accuracy: 0.9917 - lr: 0.0010 - 199s/epoch - 453ms/step\n",
      "Epoch 9/30\n",
      "439/439 - 197s - loss: 0.0519 - accuracy: 0.9859 - val_loss: 0.0305 - val_accuracy: 0.9907 - lr: 0.0010 - 197s/epoch - 448ms/step\n",
      "Epoch 10/30\n",
      "439/439 - 184s - loss: 0.0503 - accuracy: 0.9864 - val_loss: 0.0295 - val_accuracy: 0.9917 - lr: 0.0010 - 184s/epoch - 419ms/step\n",
      "Epoch 11/30\n",
      "439/439 - 185s - loss: 0.0522 - accuracy: 0.9859 - val_loss: 0.0248 - val_accuracy: 0.9924 - lr: 0.0010 - 185s/epoch - 422ms/step\n",
      "Epoch 12/30\n",
      "439/439 - 183s - loss: 0.0533 - accuracy: 0.9866 - val_loss: 0.0277 - val_accuracy: 0.9914 - lr: 0.0010 - 183s/epoch - 417ms/step\n",
      "Epoch 13/30\n",
      "439/439 - 183s - loss: 0.0529 - accuracy: 0.9866 - val_loss: 0.0269 - val_accuracy: 0.9943 - lr: 0.0010 - 183s/epoch - 418ms/step\n",
      "Epoch 14/30\n",
      "439/439 - 183s - loss: 0.0528 - accuracy: 0.9863 - val_loss: 0.0351 - val_accuracy: 0.9921 - lr: 0.0010 - 183s/epoch - 418ms/step\n",
      "Epoch 15/30\n",
      "439/439 - 183s - loss: 0.0502 - accuracy: 0.9870 - val_loss: 0.0369 - val_accuracy: 0.9919 - lr: 0.0010 - 183s/epoch - 417ms/step\n",
      "Epoch 16/30\n",
      "\n",
      "Epoch 16: ReduceLROnPlateau reducing learning rate to 0.0005000000237487257.\n",
      "439/439 - 182s - loss: 0.0532 - accuracy: 0.9861 - val_loss: 0.0408 - val_accuracy: 0.9921 - lr: 0.0010 - 182s/epoch - 415ms/step\n",
      "Epoch 17/30\n",
      "439/439 - 184s - loss: 0.0364 - accuracy: 0.9902 - val_loss: 0.0321 - val_accuracy: 0.9950 - lr: 5.0000e-04 - 184s/epoch - 420ms/step\n",
      "Epoch 18/30\n",
      "439/439 - 183s - loss: 0.0329 - accuracy: 0.9912 - val_loss: 0.0330 - val_accuracy: 0.9926 - lr: 5.0000e-04 - 183s/epoch - 418ms/step\n",
      "Epoch 19/30\n",
      "439/439 - 189s - loss: 0.0335 - accuracy: 0.9915 - val_loss: 0.0234 - val_accuracy: 0.9931 - lr: 5.0000e-04 - 189s/epoch - 430ms/step\n",
      "Epoch 20/30\n",
      "\n",
      "Epoch 20: ReduceLROnPlateau reducing learning rate to 0.0002500000118743628.\n",
      "439/439 - 172s - loss: 0.0349 - accuracy: 0.9912 - val_loss: 0.0256 - val_accuracy: 0.9936 - lr: 5.0000e-04 - 172s/epoch - 392ms/step\n",
      "Epoch 21/30\n",
      "439/439 - 182s - loss: 0.0275 - accuracy: 0.9929 - val_loss: 0.0249 - val_accuracy: 0.9943 - lr: 2.5000e-04 - 182s/epoch - 415ms/step\n",
      "Epoch 22/30\n",
      "439/439 - 180s - loss: 0.0257 - accuracy: 0.9940 - val_loss: 0.0173 - val_accuracy: 0.9960 - lr: 2.5000e-04 - 180s/epoch - 409ms/step\n",
      "Epoch 23/30\n",
      "439/439 - 180s - loss: 0.0239 - accuracy: 0.9938 - val_loss: 0.0202 - val_accuracy: 0.9957 - lr: 2.5000e-04 - 180s/epoch - 409ms/step\n",
      "Epoch 24/30\n",
      "439/439 - 181s - loss: 0.0234 - accuracy: 0.9937 - val_loss: 0.0205 - val_accuracy: 0.9957 - lr: 2.5000e-04 - 181s/epoch - 412ms/step\n",
      "Epoch 25/30\n",
      "\n",
      "Epoch 25: ReduceLROnPlateau reducing learning rate to 0.0001250000059371814.\n",
      "439/439 - 180s - loss: 0.0237 - accuracy: 0.9934 - val_loss: 0.0303 - val_accuracy: 0.9948 - lr: 2.5000e-04 - 180s/epoch - 411ms/step\n",
      "Epoch 26/30\n",
      "439/439 - 179s - loss: 0.0224 - accuracy: 0.9942 - val_loss: 0.0247 - val_accuracy: 0.9945 - lr: 1.2500e-04 - 179s/epoch - 408ms/step\n",
      "Epoch 27/30\n",
      "439/439 - 186s - loss: 0.0189 - accuracy: 0.9948 - val_loss: 0.0271 - val_accuracy: 0.9948 - lr: 1.2500e-04 - 186s/epoch - 425ms/step\n",
      "Epoch 28/30\n",
      "\n",
      "Epoch 28: ReduceLROnPlateau reducing learning rate to 6.25000029685907e-05.\n",
      "439/439 - 179s - loss: 0.0206 - accuracy: 0.9946 - val_loss: 0.0239 - val_accuracy: 0.9955 - lr: 1.2500e-04 - 179s/epoch - 408ms/step\n",
      "Epoch 29/30\n",
      "439/439 - 180s - loss: 0.0170 - accuracy: 0.9953 - val_loss: 0.0245 - val_accuracy: 0.9952 - lr: 6.2500e-05 - 180s/epoch - 411ms/step\n",
      "Epoch 30/30\n",
      "439/439 - 181s - loss: 0.0191 - accuracy: 0.9953 - val_loss: 0.0247 - val_accuracy: 0.9952 - lr: 6.2500e-05 - 181s/epoch - 412ms/step\n"
     ]
    }
   ],
   "source": [
    "history = model.fit_generator(datagen.flow(X_train,Y_train, batch_size=batch_size),\n",
    "                              epochs = epochs, validation_data = (X_val,Y_val),\n",
    "                              verbose = 2, steps_per_epoch=X_train.shape[0] // batch_size\n",
    "                              , callbacks=[learning_rate_reduction])"
   ]
  },
  {
   "cell_type": "markdown",
   "id": "3331c5a4",
   "metadata": {},
   "source": [
    "#  Training and validation curves"
   ]
  },
  {
   "cell_type": "code",
   "execution_count": 20,
   "id": "86691f9e",
   "metadata": {},
   "outputs": [
    {
     "data": {
      "image/png": "[encoded data removed]",
      "text/plain": [
       "<Figure size 640x480 with 2 Axes>"
      ]
     },
     "metadata": {},
     "output_type": "display_data"
    }
   ],
   "source": [
    "fig, ax = plt.subplots(2,1)\n",
    "ax[0].plot(history.history['loss'], color='b', label=\"Training loss\")\n",
    "ax[0].plot(history.history['val_loss'], color='r', label=\"Validation loss\",axes =ax[0])\n",
    "legend_loss = ax[0].legend(loc='best', shadow=True)\n",
    "\n",
    "ax[1].plot(history.history['accuracy'], color='b', label=\"Training accuracy\")\n",
    "ax[1].plot(history.history['val_accuracy'], color='r',label=\"Validation accuracy\")\n",
    "legend_accuracy = ax[1].legend(loc='best', shadow=True)"
   ]
  },
  {
   "cell_type": "markdown",
   "id": "f1af6e6a",
   "metadata": {},
   "source": [
    "The following code is used to create graphs that display the training and validation loss and accuracy. The model was trained with two epochs in this notebook, but I will also show the curves from a model that was trained for 30 epochs (which took approximately 2 and a half hours).The model is trined very well.The model reaches almost 99%."
   ]
  },
  {
   "cell_type": "markdown",
   "id": "30b0457b",
   "metadata": {},
   "source": [
    "# Confusion matrix\n",
    "made Confusion matrix to see our model drawbacks."
   ]
  },
  {
   "cell_type": "code",
   "execution_count": 34,
   "id": "bde0d7c7",
   "metadata": {},
   "outputs": [
    {
     "name": "stdout",
     "output_type": "stream",
     "text": [
      "132/132 [==============================] - 7s 50ms/step\n"
     ]
    },
    {
     "data": {
      "text/plain": [
       "0.9910080967582109"
      ]
     },
     "execution_count": 34,
     "metadata": {},
     "output_type": "execute_result"
    },
    {
     "data": {
      "image/png": "[encoded data removed]",
      "text/plain": [
       "<Figure size 640x480 with 2 Axes>"
      ]
     },
     "metadata": {},
     "output_type": "display_data"
    }
   ],
   "source": [
    "from sklearn.metrics import confusion_matrix, r2_score\n",
    "import itertools\n",
    "\n",
    "def plot_confusion_matrix(cm, classes, normalize=False, title='Confusion matrix', cmap=plt.cm.Blues):\n",
    "    if normalize:\n",
    "        cm = cm.astype('float') / cm.sum(axis=1)[:, np.newaxis]\n",
    "    \n",
    "    plt.imshow(cm, interpolation='nearest', cmap=cmap)\n",
    "    plt.title(title)\n",
    "    plt.colorbar()\n",
    "    tick_marks = np.arange(len(classes))\n",
    "    plt.xticks(tick_marks, classes, rotation=45)\n",
    "    plt.yticks(tick_marks, classes)\n",
    "    \n",
    "    thresh = cm.max() / 2.\n",
    "    for i, j in itertools.product(range(cm.shape[0]), range(cm.shape[1])):\n",
    "        plt.text(j, i, format(cm[i, j], '.2f' if normalize else 'd'),\n",
    "                 horizontalalignment='center', color='white' if cm[i, j] > thresh else 'black')\n",
    "    \n",
    "    plt.ylabel('True label')\n",
    "    plt.xlabel('Predicted label')\n",
    "    plt.tight_layout()\n",
    "\n",
    "Y_pred = model.predict(X_val) \n",
    "Y_pred_classes = np.argmax(Y_pred, axis=1) \n",
    "Y_true = np.argmax(Y_val, axis=1) \n",
    "confusion_mtx = confusion_matrix(Y_true, Y_pred_classes) \n",
    "\n",
    "plot_confusion_matrix(confusion_mtx, classes=range(10), cmap=plt.cm.Reds) \n",
    "\n",
    "# calculate r2 score\n",
    "r2_score(Y_val, Y_pred)\n",
    "\n"
   ]
  },
  {
   "cell_type": "markdown",
   "id": "4a70b737",
   "metadata": {},
   "source": [
    "We can observe that our convolutional neural network (CNN) performs impressively well in recognizing all digits, with only a few errors considering the size of the validation set (4,200 images).\n",
    "\n",
    "Nonetheless, there appear to be some minor issues with how the CNN recognizes the digit 4, as it is occasionally misclassified as 9. This can be particularly challenging to distinguish between the two digits when their shapes are similar and the curves in the data are smooth."
   ]
  },
  {
   "cell_type": "code",
   "execution_count": 30,
   "id": "b3164924",
   "metadata": {},
   "outputs": [
    {
     "data": {
      "image/png": "[encoded data removed]",
      "text/plain": [
       "<Figure size 1000x1000 with 6 Axes>"
      ]
     },
     "metadata": {},
     "output_type": "display_data"
    }
   ],
   "source": [
    "errors = Y_pred_classes != Y_true\n",
    "X_val_errors, Y_pred_classes_errors, Y_true_errors = X_val[errors], Y_pred_classes[errors], Y_true[errors]\n",
    "Y_pred_errors_prob = np.max(Y_pred[errors], axis=1)\n",
    "true_prob_errors = Y_pred[errors, Y_true_errors]\n",
    "delta_pred_true_errors = Y_pred_errors_prob - true_prob_errors\n",
    "most_important_top6_errors = np.argsort(delta_pred_true_errors)[-6:]\n",
    "plt.figure(figsize=(10, 10))\n",
    "for i, error_index in enumerate(most_important_top6_errors):\n",
    "    plt.subplot(3, 3, i + 1)\n",
    "    plt.xticks([])\n",
    "    plt.yticks([])\n",
    "    plt.grid(False)\n",
    "    plt.imshow(X_val_errors[error_index].reshape(28, 28), cmap='Reds')\n",
    "    plt.xlabel(\"Predicted label: {}\\nTrue label: {}\".format(Y_pred_classes_errors[error_index], Y_true_errors[error_index]))\n",
    "plt.show()"
   ]
  },
  {
   "cell_type": "markdown",
   "id": "65579aec",
   "metadata": {},
   "source": [
    "# The following scenario pertains to when the epochs configuration is set to 1."
   ]
  },
  {
   "cell_type": "code",
   "execution_count": 31,
   "id": "e91be3f9",
   "metadata": {},
   "outputs": [
    {
     "name": "stdout",
     "output_type": "stream",
     "text": [
      "875/875 [==============================] - 41s 47ms/step\n"
     ]
    }
   ],
   "source": [
    "results = pd.Series(np.argmax(model.predict(test), axis=1), name=\"Label\")"
   ]
  },
  {
   "cell_type": "code",
   "execution_count": 32,
   "id": "701184ea",
   "metadata": {},
   "outputs": [],
   "source": [
    "submission = pd.concat([pd.Series(range(1,28001),name = \"ImageId\"),results],axis = 1)\n",
    "\n",
    "submission.to_csv(\"cnn_mnist_datagen.csv\",index=False)"
   ]
  },
  {
   "cell_type": "code",
   "execution_count": null,
   "id": "d65ba015",
   "metadata": {},
   "outputs": [],
   "source": []
  },
  {
   "cell_type": "code",
   "execution_count": null,
   "id": "dc4949f3",
   "metadata": {},
   "outputs": [],
   "source": []
  }
 ],
 "metadata": {
  "kernelspec": {
   "display_name": "Python 3 (ipykernel)",
   "language": "python",
   "name": "python3"
  },
  "language_info": {
   "codemirror_mode": {
    "name": "ipython",
    "version": 3
   },
   "file_extension": ".py",
   "mimetype": "text/x-python",
   "name": "python",
   "nbconvert_exporter": "python",
   "pygments_lexer": "ipython3",
   "version": "3.11.7"
  }
 },
 "nbformat": 4,
 "nbformat_minor": 5
}
